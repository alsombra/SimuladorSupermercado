{
 "cells": [
  {
   "cell_type": "markdown",
   "metadata": {},
   "source": [
    "# Trabalho - Simulação e Análise de Desempenho\n",
    "# Simulação de caixas de supermercado\n"
   ]
  },
  {
   "cell_type": "markdown",
   "metadata": {},
   "source": [
    "### Aluno : 1º Ten Cardoso \n",
    "### Aluno: Antônio Luís Sombra de Medeiros "
   ]
  },
  {
   "cell_type": "code",
   "execution_count": null,
   "metadata": {
    "collapsed": false
   },
   "outputs": [],
   "source": [
    "from __future__ import division\n",
    "import random\n",
    "import numpy\n",
    "from math import *\n"
   ]
  },
  {
   "cell_type": "markdown",
   "metadata": {},
   "source": [
    "## Parâmetros do problema"
   ]
  },
  {
   "cell_type": "code",
   "execution_count": null,
   "metadata": {
    "collapsed": true
   },
   "outputs": [],
   "source": [
    "numeroDeCaixas = 20 #INPUT CONFIGURADO AQUI\n",
    "random.seed(1)# tornar resultado replicável\n",
    "lamb = 10        # taxa do Processo de Poisson do tempo de chegada (clientes/min)\n",
    "T_total = 720        # tempo de operação\n",
    "t_min= 20 # tempo mínimo de compra\n",
    "t_max = 45 #tempo máximo de compra\n",
    "t_min_at = 2 #tempo minimo de atendimento\n",
    "t_max_at = 6 #tempo máximo de atendimento\n",
    "taman_max_fila = 500 #tamanho máximo da fila\n",
    "t_fechamento = 10\n",
    "    "
   ]
  },
  {
   "cell_type": "markdown",
   "metadata": {},
   "source": [
    "## Funções de distribuição"
   ]
  },
  {
   "cell_type": "code",
   "execution_count": null,
   "metadata": {
    "collapsed": false
   },
   "outputs": [],
   "source": [
    "def poisson(lamb):\n",
    "    return -log(random.uniform(0,1))/lamb\n",
    "\n",
    "def expon(s):\n",
    "    return -log(random.uniform(0,1))/s\n",
    "\n",
    "def unif(t_min,t_max):\n",
    "    return (random.uniform(0,1)*(t_max - t_min + 1) + t_min)\n"
   ]
  },
  {
   "cell_type": "markdown",
   "metadata": {},
   "source": [
    "## Eventos"
   ]
  },
  {
   "cell_type": "code",
   "execution_count": null,
   "metadata": {
    "collapsed": true
   },
   "outputs": [],
   "source": [
    "# E1(chegada): cliente chega ao supermercado\n",
    "# E2(saida_1): cliente faz suas compras e escolhe uma fila (a menor)\n",
    "# E3(saida_2): cliente começa a ser atendido no caixa\n",
    "# E4(saida_3): termina o atendimento \n",
    "\n",
    "class Evento: \n",
    "    \n",
    "    contador = 0 #variavel de classe (estatica)\n",
    "    \n",
    "    def __init__(self, tempo):\n",
    "        self.tipo = \"E1\"\n",
    "        self.tempoE1 = tempo\n",
    "        self.proximo = None\n",
    "        self.index = Evento.contador\n",
    "        self.tempoE2 = 0\n",
    "        self.tempoE3 = 0\n",
    "        self.tempoE4 = 0\n",
    "        self.caixa = 0\n",
    "        self.tempoUltimaMudanca = 0\n",
    "        Evento.contador+=1\n",
    "        \n",
    "    def getTempo(self):\n",
    "        if self.tipo == \"E1\":\n",
    "            tempo = self.tempoE1\n",
    "        elif self.tipo == \"E2\":\n",
    "            tempo = self.tempoE2\n",
    "        elif self.tipo == \"E3\":\n",
    "            tempo = self.tempoE3\n",
    "        elif self.tipo == \"E4\":\n",
    "            tempo = self.tempoE4\n",
    "        else: \n",
    "            tempo = self.tempoE1\n",
    "        return tempo\n",
    "    def ClientIndex(self):\n",
    "        return self.index\n",
    "    def getClientIndex(self):\n",
    "        return self.index\n",
    "\n",
    "\n"
   ]
  },
  {
   "cell_type": "markdown",
   "metadata": {},
   "source": [
    "## Caixa"
   ]
  },
  {
   "cell_type": "code",
   "execution_count": null,
   "metadata": {
    "collapsed": true
   },
   "outputs": [],
   "source": [
    "#CAIXA\n",
    "\n",
    "class Caixa:\n",
    "    def __init__(self, index):\n",
    "        self.index = index\n",
    "        self.estado = True #inicia livre é true se o caixa estiver livre\n",
    "        self.fila = FilaDeClientes()\n",
    "    \n",
    "    def addCliente(evento):\n",
    "        self.fila.addCliente(evento)"
   ]
  },
  {
   "cell_type": "markdown",
   "metadata": {},
   "source": [
    "## Fila de Eventos"
   ]
  },
  {
   "cell_type": "code",
   "execution_count": null,
   "metadata": {
    "collapsed": false
   },
   "outputs": [],
   "source": [
    "\n",
    "        \n",
    "#FILA DE EVENTOS     \n",
    "        \n",
    "class FilaDeEventos():\n",
    "    def __init__(self):\n",
    "        self.inicio = None\n",
    "        self.numeroDeEventos = 0\n",
    "    \n",
    "    def addEvento(self, evento):\n",
    "        evento.proximo = None\n",
    "        if self.numeroDeEventos == 0: \n",
    "            self.inicio = evento\n",
    "            #print_result(\"adicionando na fila vazia\")\n",
    "            #self.print()\n",
    "        else:\n",
    "            atual = self.inicio\n",
    "            anterior = atual\n",
    "            while atual != None: \n",
    "                if atual.getTempo() < evento.getTempo(): \n",
    "                    anterior = atual\n",
    "                    atual = atual.proximo\n",
    "                else:\n",
    "                    break\n",
    "                    \n",
    "            if anterior == atual: \n",
    "                evento.proximo = self.inicio\n",
    "                self.inicio = evento\n",
    "            else: \n",
    "                evento.proximo = anterior.proximo\n",
    "                anterior.proximo = evento\n",
    "            \n",
    "        self.numeroDeEventos+=1\n",
    "    \n",
    "    #verificar se fila não está vazia antes de chamas esse método\n",
    "    def pullEvento(self):\n",
    "        evento = self.inicio\n",
    "        self.inicio = self.inicio.proximo\n",
    "        self.numeroDeEventos-=1\n",
    "        return evento\n",
    "    \n",
    "    \n",
    "    def isEmpty(self): \n",
    "        return self.numeroDeEventos == 0\n",
    "    \n",
    "    def print_result():\n",
    "        print(\"-----------------------------------\");\n",
    "        atual = self.inicio\n",
    "        while atual != None:\n",
    "            print(\"Cliente: \"+atual.getClientIndex()+\" - Tipo de evento: \"+atual.getTipo())\n",
    "            atual = atual.proximo\n",
    "    \n",
    "        proximo(\"-----------------------------------\");\n",
    "    \n",
    "    \n"
   ]
  },
  {
   "cell_type": "markdown",
   "metadata": {},
   "source": [
    "## Fila de Clientes\n"
   ]
  },
  {
   "cell_type": "code",
   "execution_count": null,
   "metadata": {
    "collapsed": true
   },
   "outputs": [],
   "source": [
    "#FILA DE CLIENTES\n",
    "    \n",
    "class FilaDeClientes():\n",
    "\n",
    "    def __init__(self):\n",
    "        self.inicio = None\n",
    "        self.fim = None\n",
    "        self.numeroDeClientes = 0\n",
    "        self.tamanhoMaximo = 0\n",
    "        self.tempoUltimaMudanca = 0\n",
    "       \n",
    "    def addCliente(self, evento):\n",
    "        evento.proximo = None\n",
    "        if self.inicio == None: \n",
    "            self.inicio = self.fim = evento\n",
    "        else: \n",
    "            self.fim.proximo = evento\n",
    "            self.fim = evento\n",
    "        \n",
    "        self.numeroDeClientes+=1\n",
    "        if self.tamanhoMaximo < self.numeroDeClientes:\n",
    "            self.tamanhoMaximo = self.numeroDeClientes\n",
    "    \n",
    "    def pullCliente():\n",
    "        primeiro = self.inicio\n",
    "        self.inicio = self.inicio.proximo\n",
    "        self.numeroDeClientes-=1\n",
    "        return primeiro\n",
    "    \n",
    "    \n",
    "    def isEmpty(self): \n",
    "        return self.numeroDeClientes == 0\n"
   ]
  },
  {
   "cell_type": "markdown",
   "metadata": {},
   "source": [
    "## Variáveis e Funções \n"
   ]
  },
  {
   "cell_type": "code",
   "execution_count": null,
   "metadata": {
    "collapsed": false
   },
   "outputs": [],
   "source": [
    "\n",
    "def zerolistmaker(n):\n",
    "    listofzeros = [0] * n\n",
    "    return listofzeros\n",
    "\n",
    "\n",
    "def tempoChegada(): \n",
    "    return poisson(lamb)\n",
    "\n",
    "def tempoCompra(): \n",
    "    return unif(t_min,t_max)\n",
    "\n",
    "def tempoAtendimento(): \n",
    "    return unif(t_min_at,t_max_at)"
   ]
  },
  {
   "cell_type": "markdown",
   "metadata": {},
   "source": [
    "## SIMULAÇÃO RODANDO"
   ]
  },
  {
   "cell_type": "code",
   "execution_count": null,
   "metadata": {
    "collapsed": false
   },
   "outputs": [],
   "source": [
    "\n",
    "def getCaixaMenorFila(caixas):\n",
    "    caixaMenorFila = caixas[0]\n",
    "    for caixa in caixas:\n",
    "        if caixa.fila.numeroDeClientes < caixaMenorFila.fila.numeroDeClientes: \n",
    "            caixaMenorFila = caixa\n",
    "\n",
    "    return caixaMenorFila\n",
    "\n",
    "def todasFilasVazias(caixas):\n",
    "    for caixa in caixas: \n",
    "        if not (caixa.fila.isEmpty()): \n",
    "            return False\n",
    "    return True\n",
    "\n",
    "def getFilaMedia(tempoDeEsperaPorFila , caixas):\n",
    "    filaMedia = zerolistmaker(len(tempoDeEsperaPorFila))\n",
    "    filaMaxima = caixas[0].fila.tamanhoMaximo\n",
    "    for i in range(0,len(tempoDeEsperaPorFila)):\n",
    "        tempoMedio = 0\n",
    "        fila = tempoDeEsperaPorFila[i]\n",
    "        for j in range(0,len(fila)): \n",
    "            tempoMedio += j*fila[j]\n",
    "\n",
    "        tempoMedio /= caixas[i].fila.tempoUltimaMudanca\n",
    "        filaMedia[i] = tempoMedio\n",
    "        print(\"FILA \"+str(i)+\"\")\n",
    "        print(\"Tamanho médio: \"+str(tempoMedio))\n",
    "        filaTamanhoMaximo = caixas[i].fila.tamanhoMaximo\n",
    "        print(\"Tamanho máximo: \" + str(filaTamanhoMaximo))\n",
    "        if filaTamanhoMaximo > filaMaxima: \n",
    "            filaMaxima = filaTamanhoMaximo\n",
    "\n",
    "    print(\"Fila máxima entre as filas: \"+str(filaMaxima))\n",
    "    return filaMedia\n",
    "\n",
    "\n",
    "def getTempoMedioNoSupermercado(clientes):\n",
    "    tempoTotalDePemanencia = 0\n",
    "    for cliente in clientes:\n",
    "        clienteTempoDePermanencia = (cliente.tempoE4 - cliente.tempoE1)\n",
    "        #print(\"Cliente \"+cliente.getClientIndex()+\": \"+clienteTempoDePermanencia)\n",
    "        tempoTotalDePemanencia += clienteTempoDePermanencia\n",
    "    return tempoTotalDePemanencia/len(clientes)    "
   ]
  },
  {
   "cell_type": "markdown",
   "metadata": {},
   "source": [
    "## SIMULAÇÃO MESMO MAIN () A PARTIR DAQUI"
   ]
  },
  {
   "cell_type": "code",
   "execution_count": null,
   "metadata": {
    "collapsed": true
   },
   "outputs": [],
   "source": [
    "    #__________________________________________________MAIN ________________________________________________________\n",
    "    old_settings = numpy.seterr(all='print') # linha para formatar erros melhor\n",
    "    \n",
    "    caixas = [Caixa(i) for i in range(0,numeroDeCaixas)]\n",
    "    clock = 0\n",
    "    Evento.contador = 0\n",
    "\n",
    "    tempoE1 = tempoChegada()\n",
    "    e1 = Evento(tempoE1)\n",
    "    fe = FilaDeEventos()\n",
    "    listaDeClientes = list()\n",
    "    \n",
    "    fe.addEvento(e1)\n",
    "    listaDeClientes.append(e1)\n",
    "   \n",
    "    temposDeEsperaPorFila = numpy.ones(shape=(numeroDeCaixas,taman_max_fila))\n",
    "    \n",
    "    for fila in temposDeEsperaPorFila:\n",
    "        for esperaPorTamanho in fila:\n",
    "            esperaPorTamanho = 0\n",
    "\n",
    "    while clock < T_total or (not fe.isEmpty()) or (not todasFilasVazias(caixas)):\n",
    "        for caixa in caixas: # SE TIVER CAIXA VAZIO (LIVRE) ENTÃO PEGA UM CLIENTE DA FILA DESSE CAIXA E ATENDE (E3)\n",
    "            if caixa.estado:  #estado é true se o caixa estiver livre\n",
    "                if caixa.fila.isEmpty() == False: \n",
    "                    cliente = caixa.fila.pullCliente() #evento cliente\n",
    "                    tempoE3 = clock\n",
    "                    cliente.tipo = \"E3\"\n",
    "                    cliente.tempoE3 = tempoE3\n",
    "                    fe.addEvento(cliente)\n",
    "                    caixa.estado == False #seta o estado para false - caixa ocupado\n",
    "        if not fe.isEmpty(): #SE A LISTA DE EVENTOS NÃO ESTIVER VAZIA\n",
    "            evento = fe.pullEvento() #RETIRAR O EVENTO MAIS DE CIMA PRA TRATAR\n",
    "            clock = evento.getTempo()\n",
    "            if evento.tipo == \"E1\":  #SE O CLIENTE TIVER NO E1, ADICIONA TEMPO DE COMPRA E MANDA ELE PRO E2\n",
    "                    tempoE2 = tempoCompra() + clock #CONTAR O CLOCK\n",
    "                    evento.tipo = \"E2\"\n",
    "                    evento.tempoE2 = tempoE2\n",
    "                    fe.addEvento(evento) # ADICIONA O NOVO EVENTO (E2) NA LISTA PRA TRATAR\n",
    "                    \n",
    "                    #inserir novo cliente no supermercado\n",
    "                    tempoE1 = tempoChegada() + clock\n",
    "                    if tempoE1 < (T_total - t_fechamento):\n",
    "                        novo = Evento(tempoE1)\n",
    "                        fe.addEvento(novo)\n",
    "                        listaDeClientes.append(novo)\n",
    "                    break\n",
    "                    \n",
    "            elif evento.tipo == \"E2\": #TRATAMENTO DOS EVENTOS E2  ( ESCOLHENDO A MENOR FILA DE CAIXA PRA ELE IR E ADD NA FE)\n",
    "                    menorFila = getCaixaMenorFila(caixas)\n",
    "                    evento.caixa = menorFila.getIndex()\n",
    "                    menorFila.addCliente(evento)\n",
    "                    temposDeEsperaPorFila[menorFila.getIndex()][menorFila.fila.tamanhoFila - 1] += (clock - menorFila.fila.tempoUltimaMudanca)\n",
    "                    menorFila.fila.tmpoUltimaMudanca = clock\n",
    "                    break\n",
    "            elif evento.tipo == \"E3\": #AQUI CALCULA-SE O TEMPO NA FILA QUE ELE VAI PASSAR PRA ACHAR O TEMPO4 (de saida) e add EV4\n",
    "                    #AQUI CALCULA-SE JÁ a Média etc.\n",
    "                    temposDeEsperaPorFila[evento.caixa][caixas[evento.caixa].fila.tamanhoFila + 1] += (clock - caixas[evento.caixa].fila.tempoUltimaMudanca)                                                                              \n",
    "                    caixas[evento.caixa].fila.tempoUltimaMudanca = clock\n",
    "                    tempoE4 = tempoAtendimento() + clock\n",
    "                    evento.tipo = \"E4\"\n",
    "                    evento.tempoE4 = tempoE4\n",
    "                    fe.addEvento(evento)\n",
    "                    break\n",
    "            elif evento.tipo == \"E4\": #SAIDA DE UM CLIENTE - LIBERA O CAIXA\n",
    "                    caixaAssociado = evento.caixa\n",
    "                    caixas[caixaAssociado].estado = True\n",
    "                    break\n",
    "    \n",
    "   \n",
    "    print(\"CLIENTES\")\n",
    "    for cliente in listaDeClientes:\n",
    "        print(\"Cliente \"+str(cliente.getClientIndex()))\n",
    "        print(\"Chegou em: \"+str(cliente.tempoE1))\n",
    "        print(\"Terminou compras em: \"+str(cliente.tempoE2))\n",
    "        print(\"Começou atendimento em: \"+str(cliente.tempoE3))\n",
    "        print(\"Terminou atendimento em: \"+str(cliente.tempoE4))\n",
    "        print(\"Atendido no caixa: \"+str(cliente.caixa))\n",
    "   \n",
    "    print(\"--------------------\")\n",
    "    getFilaMedia(temposDeEsperaPorFila, caixas)\n",
    "    print(\"Tempo médio de permanência no supermercado: \"+str(getTempoMedioNoSupermercado(listaDeClientes)))\n",
    "    print(\"Total de clientes: \"+str(len(listaDeClientes)))\n"
   ]
  }
 ],
 "metadata": {
  "anaconda-cloud": {},
  "kernelspec": {
   "display_name": "Python [Root]",
   "language": "python",
   "name": "Python [Root]"
  },
  "language_info": {
   "codemirror_mode": {
    "name": "ipython",
    "version": 3
   },
   "file_extension": ".py",
   "mimetype": "text/x-python",
   "name": "python",
   "nbconvert_exporter": "python",
   "pygments_lexer": "ipython3",
   "version": "3.5.2"
  }
 },
 "nbformat": 4,
 "nbformat_minor": 0
}
